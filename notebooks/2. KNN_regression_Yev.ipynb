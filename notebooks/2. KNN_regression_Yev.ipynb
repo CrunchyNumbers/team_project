{
 "cells": [
  {
   "cell_type": "code",
   "execution_count": null,
   "metadata": {},
   "outputs": [],
   "source": [
    "import pandas as pd\n",
    "import numpy as np\n",
    "import statsmodels.api as sm\n",
    "from sklearn.model_selection import train_test_split\n",
    "from sklearn.preprocessing import StandardScaler, OneHotEncoder\n",
    "from sklearn.compose import ColumnTransformer\n",
    "from sklearn.pipeline import Pipeline\n",
    "from sklearn.impute import SimpleImputer\n",
    "from sklearn.linear_model import LogisticRegression\n",
    "from sklearn.neighbors import KNeighborsClassifier\n",
    "from sklearn.ensemble import RandomForestClassifier\n",
    "from sklearn.linear_model import LogisticRegressionCV\n",
    "from sklearn.metrics import accuracy_score, confusion_matrix, classification_report\n",
    "import warnings\n",
    "warnings.filterwarnings('ignore') # mute warning messages\n",
    "import seaborn as sns\n",
    "import matplotlib.pyplot as plt"
   ]
  },
  {
   "cell_type": "code",
   "execution_count": null,
   "metadata": {},
   "outputs": [],
   "source": [
    "# Load the dataset\n",
    "# www.kaggle.com/datasets/rohit265/credit-card-eligibility-df-determining-factors\n",
    "data = pd.read_csv('../data/raw/dataset.csv')\n",
    "data_processed = pd.get_dummies(data, columns = ['Income_type' , 'Education_type', 'Family_status', 'Housing_type', 'Occupation_type'])\n",
    "print(data_processed)"
   ]
  },
  {
   "cell_type": "code",
   "execution_count": null,
   "metadata": {},
   "outputs": [],
   "source": [
    "# Define features and target.\n",
    "# Based on previous team analysis, only the following features were found to significantly impact the 'Target' feature.\n",
    "# (Absolute value of coefficient is above 0.05 and p-value is below 0.05).\n",
    "X = data_processed[['Num_children', 'Income_type_Commercial associate', 'Income_type_Pensioner', 'Income_type_State servant', 'Income_type_Working', 'Family_status_Single / not married']]\n",
    "y = data_processed['Target']"
   ]
  },
  {
   "cell_type": "code",
   "execution_count": null,
   "metadata": {},
   "outputs": [],
   "source": [
    "# Split the dataset - by splitting the dataset into training and testing sets, we ensure that we have separate data to train the model and to evaluate its performance.\n",
    "# Using stratification helps maintain the class distribution, which is critical for imbalanced datasets, while setting a random state guarantees reproducibility.\n",
    "\n",
    "X_train, X_test, y_train, y_test = train_test_split(X, y, test_size=0.2, stratify=y, random_state=42)\n"
   ]
  },
  {
   "cell_type": "code",
   "execution_count": null,
   "metadata": {},
   "outputs": [],
   "source": [
    "# K-Nearest Neighbors\n",
    "knn = KNeighborsClassifier(n_neighbors=5)\n",
    "knn.fit(X_train, y_train)\n",
    "y_pred_knn = knn.predict(X_test)\n",
    "print(\"KNN Accuracy: \", accuracy_score(y_test, y_pred_knn))\n",
    "print(\"Classification Report: \\n\", classification_report(y_test, y_pred_knn))\n"
   ]
  },
  {
   "cell_type": "markdown",
   "metadata": {},
   "source": [
    "The K-Nearest Neighbors (KNN) model demonstrated an overall accuracy of 0.681, indicating moderate performance in predicting credit card approvals. The detailed classification report reveals more nuanced insights into the model's effectiveness:\n",
    "\n",
    "For Class 0 (Rejections):\n",
    "\n",
    "Precision: 0.87\n",
    "Recall: 0.74\n",
    "F1-Score: 0.80\n",
    "The model shows high precision (87%) for predicting rejections, meaning that when the model predicts a rejection, it is correct 87% of the time. However, the recall is slightly lower at 74%, indicating that the model correctly identifies 74% of all actual rejections.\n",
    "\n",
    "For Class 1 (Approvals):\n",
    "\n",
    "Precision: 0.14\n",
    "Recall: 0.27\n",
    "F1-Score: 0.18\n",
    "The model performs poorly for predicting approvals. The low precision (14%) indicates a high number of false positives, and the low recall (27%) shows that the model misses a significant portion of actual approvals.\n",
    "\n",
    "Definitions\n",
    "Precision: The ratio of true positive predictions to the total number of positive predictions made. It reflects the accuracy of positive predictions.\n",
    "Recall: The ratio of true positive predictions to the total number of actual positives. It measures the model's ability to identify all relevant cases.\n",
    "\n",
    "Addressing the Imbalanced Dataset\n",
    "The dataset is highly imbalanced, with significantly more rejections (Class 0) than approvals (Class 1). To improve the model's performance, especially for the minority class (approvals), several strategies can be employed:\n",
    "\n",
    "1. Increase sample size for Class 1:\n",
    "    Collect more samples of approved applications to balance the dataset better.\n",
    "\n",
    "2. Advanced models:\n",
    "    Explore more sophisticated models, such as gradient boosting machines, which are better at handling imbalanced datasets.\n",
    "\n",
    "3. Hyperparameter tuning:\n",
    "    Utilize grid search or other hyperparameter tuning techniques to optimize the model's performance.\n",
    "\n",
    "4. Ensemble methods:\n",
    "    Implement ensemble methods to combine the predictions of multiple models, potentially improving overall performance.\n",
    "\n",
    "By addressing these points, we can aim to develop a more robust model that accurately predicts both credit card approvals and rejections, leading to better decision-making in credit card application processes."
   ]
  }
 ],
 "metadata": {
  "kernelspec": {
   "display_name": "dsi_participant",
   "language": "python",
   "name": "python3"
  },
  "language_info": {
   "codemirror_mode": {
    "name": "ipython",
    "version": 3
   },
   "file_extension": ".py",
   "mimetype": "text/x-python",
   "name": "python",
   "nbconvert_exporter": "python",
   "pygments_lexer": "ipython3",
   "version": "3.9.18"
  }
 },
 "nbformat": 4,
 "nbformat_minor": 2
}
