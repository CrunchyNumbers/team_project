{
 "cells": [
  {
   "cell_type": "code",
   "execution_count": 1,
   "metadata": {},
   "outputs": [],
   "source": [
    "import pandas as pd  # Importing pandas for data manipulation\n",
    "import matplotlib.pyplot as plt  # Importing Matplotlib for plotting\n",
    "import seaborn as sns  # Importing Seaborn for advanced data visualization"
   ]
  },
  {
   "cell_type": "code",
   "execution_count": 23,
   "metadata": {},
   "outputs": [
    {
     "data": {
      "text/html": [
       "<div>\n",
       "<style scoped>\n",
       "    .dataframe tbody tr th:only-of-type {\n",
       "        vertical-align: middle;\n",
       "    }\n",
       "\n",
       "    .dataframe tbody tr th {\n",
       "        vertical-align: top;\n",
       "    }\n",
       "\n",
       "    .dataframe thead th {\n",
       "        text-align: right;\n",
       "    }\n",
       "</style>\n",
       "<table border=\"1\" class=\"dataframe\">\n",
       "  <thead>\n",
       "    <tr style=\"text-align: right;\">\n",
       "      <th></th>\n",
       "      <th>_id</th>\n",
       "      <th>AREA_NAME</th>\n",
       "      <th>HOOD_ID</th>\n",
       "      <th>ADMIN_DISTRICT</th>\n",
       "      <th>POPULATION_2023</th>\n",
       "      <th>ASSAULT_2014</th>\n",
       "      <th>ASSAULT_2015</th>\n",
       "      <th>ASSAULT_2016</th>\n",
       "      <th>ASSAULT_2017</th>\n",
       "      <th>ASSAULT_2018</th>\n",
       "      <th>...</th>\n",
       "      <th>THEFTOVER_RATE_2015</th>\n",
       "      <th>THEFTOVER_RATE_2016</th>\n",
       "      <th>THEFTOVER_RATE_2017</th>\n",
       "      <th>THEFTOVER_RATE_2018</th>\n",
       "      <th>THEFTOVER_RATE_2019</th>\n",
       "      <th>THEFTOVER_RATE_2020</th>\n",
       "      <th>THEFTOVER_RATE_2021</th>\n",
       "      <th>THEFTOVER_RATE_2022</th>\n",
       "      <th>THEFTOVER_RATE_2023</th>\n",
       "      <th>geometry</th>\n",
       "    </tr>\n",
       "  </thead>\n",
       "  <tbody>\n",
       "    <tr>\n",
       "      <th>0</th>\n",
       "      <td>1</td>\n",
       "      <td>South Eglinton-Davisville</td>\n",
       "      <td>174</td>\n",
       "      <td>Old City of Toronto</td>\n",
       "      <td>21987</td>\n",
       "      <td>63</td>\n",
       "      <td>61</td>\n",
       "      <td>70</td>\n",
       "      <td>82</td>\n",
       "      <td>85</td>\n",
       "      <td>...</td>\n",
       "      <td>16.334532</td>\n",
       "      <td>21.590111</td>\n",
       "      <td>5.237247</td>\n",
       "      <td>15.232292</td>\n",
       "      <td>14.822866</td>\n",
       "      <td>24.197842</td>\n",
       "      <td>28.634151</td>\n",
       "      <td>14.006910</td>\n",
       "      <td>36.385136</td>\n",
       "      <td>{'type': 'MultiPolygon', 'coordinates': [[[[-7...</td>\n",
       "    </tr>\n",
       "    <tr>\n",
       "      <th>1</th>\n",
       "      <td>2</td>\n",
       "      <td>North Toronto</td>\n",
       "      <td>173</td>\n",
       "      <td>Old City of Toronto</td>\n",
       "      <td>15077</td>\n",
       "      <td>45</td>\n",
       "      <td>52</td>\n",
       "      <td>43</td>\n",
       "      <td>52</td>\n",
       "      <td>55</td>\n",
       "      <td>...</td>\n",
       "      <td>25.911211</td>\n",
       "      <td>17.305529</td>\n",
       "      <td>16.500288</td>\n",
       "      <td>39.413528</td>\n",
       "      <td>30.234316</td>\n",
       "      <td>43.830814</td>\n",
       "      <td>14.241971</td>\n",
       "      <td>27.502750</td>\n",
       "      <td>46.428333</td>\n",
       "      <td>{'type': 'MultiPolygon', 'coordinates': [[[[-7...</td>\n",
       "    </tr>\n",
       "    <tr>\n",
       "      <th>2</th>\n",
       "      <td>3</td>\n",
       "      <td>Dovercourt Village</td>\n",
       "      <td>172</td>\n",
       "      <td>Old City of Toronto</td>\n",
       "      <td>13837</td>\n",
       "      <td>56</td>\n",
       "      <td>57</td>\n",
       "      <td>79</td>\n",
       "      <td>94</td>\n",
       "      <td>94</td>\n",
       "      <td>...</td>\n",
       "      <td>22.218931</td>\n",
       "      <td>37.180248</td>\n",
       "      <td>22.146759</td>\n",
       "      <td>29.146021</td>\n",
       "      <td>21.698250</td>\n",
       "      <td>21.709240</td>\n",
       "      <td>14.541224</td>\n",
       "      <td>29.008631</td>\n",
       "      <td>21.681000</td>\n",
       "      <td>{'type': 'MultiPolygon', 'coordinates': [[[[-7...</td>\n",
       "    </tr>\n",
       "    <tr>\n",
       "      <th>3</th>\n",
       "      <td>4</td>\n",
       "      <td>Junction-Wallace Emerson</td>\n",
       "      <td>171</td>\n",
       "      <td>Old City of Toronto</td>\n",
       "      <td>26240</td>\n",
       "      <td>154</td>\n",
       "      <td>157</td>\n",
       "      <td>166</td>\n",
       "      <td>157</td>\n",
       "      <td>157</td>\n",
       "      <td>...</td>\n",
       "      <td>20.975794</td>\n",
       "      <td>24.753496</td>\n",
       "      <td>24.404133</td>\n",
       "      <td>27.956388</td>\n",
       "      <td>15.754854</td>\n",
       "      <td>35.254025</td>\n",
       "      <td>31.309929</td>\n",
       "      <td>31.035419</td>\n",
       "      <td>34.298782</td>\n",
       "      <td>{'type': 'MultiPolygon', 'coordinates': [[[[-7...</td>\n",
       "    </tr>\n",
       "    <tr>\n",
       "      <th>4</th>\n",
       "      <td>5</td>\n",
       "      <td>Yonge-Bay Corridor</td>\n",
       "      <td>170</td>\n",
       "      <td>Old City of Toronto</td>\n",
       "      <td>14731</td>\n",
       "      <td>394</td>\n",
       "      <td>524</td>\n",
       "      <td>487</td>\n",
       "      <td>603</td>\n",
       "      <td>576</td>\n",
       "      <td>...</td>\n",
       "      <td>274.197968</td>\n",
       "      <td>233.301651</td>\n",
       "      <td>289.951111</td>\n",
       "      <td>349.539246</td>\n",
       "      <td>481.909271</td>\n",
       "      <td>259.798096</td>\n",
       "      <td>188.651871</td>\n",
       "      <td>358.826416</td>\n",
       "      <td>346.208679</td>\n",
       "      <td>{'type': 'MultiPolygon', 'coordinates': [[[[-7...</td>\n",
       "    </tr>\n",
       "  </tbody>\n",
       "</table>\n",
       "<p>5 rows × 186 columns</p>\n",
       "</div>"
      ],
      "text/plain": [
       "   _id                  AREA_NAME  HOOD_ID       ADMIN_DISTRICT  \\\n",
       "0    1  South Eglinton-Davisville      174  Old City of Toronto   \n",
       "1    2              North Toronto      173  Old City of Toronto   \n",
       "2    3         Dovercourt Village      172  Old City of Toronto   \n",
       "3    4   Junction-Wallace Emerson      171  Old City of Toronto   \n",
       "4    5         Yonge-Bay Corridor      170  Old City of Toronto   \n",
       "\n",
       "   POPULATION_2023  ASSAULT_2014  ASSAULT_2015  ASSAULT_2016  ASSAULT_2017  \\\n",
       "0            21987            63            61            70            82   \n",
       "1            15077            45            52            43            52   \n",
       "2            13837            56            57            79            94   \n",
       "3            26240           154           157           166           157   \n",
       "4            14731           394           524           487           603   \n",
       "\n",
       "   ASSAULT_2018  ...  THEFTOVER_RATE_2015  THEFTOVER_RATE_2016  \\\n",
       "0            85  ...            16.334532            21.590111   \n",
       "1            55  ...            25.911211            17.305529   \n",
       "2            94  ...            22.218931            37.180248   \n",
       "3           157  ...            20.975794            24.753496   \n",
       "4           576  ...           274.197968           233.301651   \n",
       "\n",
       "   THEFTOVER_RATE_2017  THEFTOVER_RATE_2018  THEFTOVER_RATE_2019  \\\n",
       "0             5.237247            15.232292            14.822866   \n",
       "1            16.500288            39.413528            30.234316   \n",
       "2            22.146759            29.146021            21.698250   \n",
       "3            24.404133            27.956388            15.754854   \n",
       "4           289.951111           349.539246           481.909271   \n",
       "\n",
       "   THEFTOVER_RATE_2020  THEFTOVER_RATE_2021  THEFTOVER_RATE_2022  \\\n",
       "0            24.197842            28.634151            14.006910   \n",
       "1            43.830814            14.241971            27.502750   \n",
       "2            21.709240            14.541224            29.008631   \n",
       "3            35.254025            31.309929            31.035419   \n",
       "4           259.798096           188.651871           358.826416   \n",
       "\n",
       "   THEFTOVER_RATE_2023                                           geometry  \n",
       "0            36.385136  {'type': 'MultiPolygon', 'coordinates': [[[[-7...  \n",
       "1            46.428333  {'type': 'MultiPolygon', 'coordinates': [[[[-7...  \n",
       "2            21.681000  {'type': 'MultiPolygon', 'coordinates': [[[[-7...  \n",
       "3            34.298782  {'type': 'MultiPolygon', 'coordinates': [[[[-7...  \n",
       "4           346.208679  {'type': 'MultiPolygon', 'coordinates': [[[[-7...  \n",
       "\n",
       "[5 rows x 186 columns]"
      ]
     },
     "execution_count": 23,
     "metadata": {},
     "output_type": "execute_result"
    }
   ],
   "source": [
    "# Load the data\n",
    "file_path = pd.read_csv('C:/Users/Lenovo/OneDrive/Desktop/DSI_Classes/team_project/updated_df.csv')\n",
    "data = file_path.head()\n",
    "file_path.head()"
   ]
  },
  {
   "cell_type": "code",
   "execution_count": null,
   "metadata": {},
   "outputs": [],
   "source": [
    "\n",
    "\n",
    "# Data Cleaning and Conversion\n",
    "# Converting relevant columns to numeric, handling errors by coercing invalid data to NaN\n",
    "assault_columns = [col for col in data.columns if 'ASSAULT_' in col]  # List of columns related to assault rates\n",
    "data[assault_columns] = data[assault_columns].apply(pd.to_numeric, errors='coerce')  # Convert to numeric\n"
   ]
  },
  {
   "cell_type": "code",
   "execution_count": 15,
   "metadata": {},
   "outputs": [],
   "source": [
    "data_cleaned = data.dropna(subset=assault_columns)"
   ]
  },
  {
   "cell_type": "code",
   "execution_count": 16,
   "metadata": {},
   "outputs": [],
   "source": [
    "#Define a color palette for box plot\n",
    "# This palette will assign a different color for each year's data\n",
    "palette = sns.color_palette(\"coolwarm\", len(assault_columns))"
   ]
  },
  {
   "cell_type": "code",
   "execution_count": 17,
   "metadata": {},
   "outputs": [
    {
     "data": {
      "text/plain": [
       "<Figure size 1400x800 with 0 Axes>"
      ]
     },
     "execution_count": 17,
     "metadata": {},
     "output_type": "execute_result"
    },
    {
     "data": {
      "text/plain": [
       "<Figure size 1400x800 with 0 Axes>"
      ]
     },
     "metadata": {},
     "output_type": "display_data"
    }
   ],
   "source": [
    "plt.figure(figsize=(14, 8))  # Set the figure size for better readability"
   ]
  },
  {
   "cell_type": "code",
   "execution_count": 18,
   "metadata": {},
   "outputs": [
    {
     "data": {
      "text/plain": [
       "<Axes: >"
      ]
     },
     "execution_count": 18,
     "metadata": {},
     "output_type": "execute_result"
    },
    {
     "data": {
      "image/png": "[encoded data removed]",
      "text/plain": [
       "<Figure size 640x480 with 1 Axes>"
      ]
     },
     "metadata": {},
     "output_type": "display_data"
    }
   ],
   "source": [
    "# Seaborn's boxplot function with the color palette defined\n",
    "sns.boxplot(data=data_cleaned[assault_columns], palette=palette)"
   ]
  },
  {
   "cell_type": "code",
   "execution_count": 19,
   "metadata": {},
   "outputs": [
    {
     "data": {
      "text/plain": [
       "([<matplotlib.axis.XTick at 0x2073375f820>,\n",
       "  <matplotlib.axis.XTick at 0x2073375f7f0>,\n",
       "  <matplotlib.axis.XTick at 0x20733759fd0>,\n",
       "  <matplotlib.axis.XTick at 0x2073360bbe0>,\n",
       "  <matplotlib.axis.XTick at 0x207336132e0>,\n",
       "  <matplotlib.axis.XTick at 0x20733613d90>,\n",
       "  <matplotlib.axis.XTick at 0x2073361a880>,\n",
       "  <matplotlib.axis.XTick at 0x20733621370>,\n",
       "  <matplotlib.axis.XTick at 0x2073361ae80>,\n",
       "  <matplotlib.axis.XTick at 0x20733613fa0>,\n",
       "  <matplotlib.axis.XTick at 0x207336297f0>,\n",
       "  <matplotlib.axis.XTick at 0x2073362d2e0>,\n",
       "  <matplotlib.axis.XTick at 0x2073362dd90>,\n",
       "  <matplotlib.axis.XTick at 0x2073362d9d0>,\n",
       "  <matplotlib.axis.XTick at 0x207336336d0>,\n",
       "  <matplotlib.axis.XTick at 0x20733633e20>,\n",
       "  <matplotlib.axis.XTick at 0x2073363ac70>,\n",
       "  <matplotlib.axis.XTick at 0x20733640760>,\n",
       "  <matplotlib.axis.XTick at 0x207336339d0>,\n",
       "  <matplotlib.axis.XTick at 0x20733640e20>],\n",
       " [Text(0, 0, '2014'),\n",
       "  Text(1, 0, '2015'),\n",
       "  Text(2, 0, '2016'),\n",
       "  Text(3, 0, '2017'),\n",
       "  Text(4, 0, '2018'),\n",
       "  Text(5, 0, '2019'),\n",
       "  Text(6, 0, '2020'),\n",
       "  Text(7, 0, '2021'),\n",
       "  Text(8, 0, '2022'),\n",
       "  Text(9, 0, '2023'),\n",
       "  Text(10, 0, 'RATE'),\n",
       "  Text(11, 0, 'RATE'),\n",
       "  Text(12, 0, 'RATE'),\n",
       "  Text(13, 0, 'RATE'),\n",
       "  Text(14, 0, 'RATE'),\n",
       "  Text(15, 0, 'RATE'),\n",
       "  Text(16, 0, 'RATE'),\n",
       "  Text(17, 0, 'RATE'),\n",
       "  Text(18, 0, 'RATE'),\n",
       "  Text(19, 0, 'RATE')])"
      ]
     },
     "execution_count": 19,
     "metadata": {},
     "output_type": "execute_result"
    },
    {
     "data": {
      "image/png": "[encoded data removed]",
      "text/plain": [
       "<Figure size 640x480 with 1 Axes>"
      ]
     },
     "metadata": {},
     "output_type": "display_data"
    }
   ],
   "source": [
    "#Adding title, labels, and customizing axes\n",
    "plt.title('Distribution of Assault Rates Over Years by Neighborhoods')  # Title for the plot\n",
    "plt.xlabel('Year')  # X-axis label indicating the years\n",
    "plt.ylabel('Assault Rate')  # Y-axis label indicating the assault rates\n",
    "plt.xticks(ticks=range(len(assault_columns)), labels=[col.split('_')[1] for col in assault_columns])  # Custom x-axis labels showing years"
   ]
  },
  {
   "cell_type": "code",
   "execution_count": null,
   "metadata": {},
   "outputs": [],
   "source": [
    "# Step 6: Define ranges for the y-axis to ensure all data is visible\n",
    "plt.ylim(0, data_cleaned[assault_columns].max().max() + 50)  # Set y-axis limits slightly above the maximum value"
   ]
  },
  {
   "cell_type": "code",
   "execution_count": 22,
   "metadata": {},
   "outputs": [],
   "source": [
    "# Step 7: Display the plot\n",
    "plt.show()  # Output the box plot"
   ]
  },
  {
   "cell_type": "markdown",
   "metadata": {},
   "source": [
    "##### Data Visualization Project Description\n",
    "\n",
    "The goals and objectives of this visualization are to:\n",
    "\n",
    "Identify Trends: The distribution of assault rates across different neighborhoods over multiple years to detect patterns or trends.\n",
    "\n",
    "Highlight Outliers: Used the box plot to identify neighborhoods with unusually high or low assault rates.\n",
    "\n",
    "Support Decision-Making: Provides insights to policymakers, law enforcement, and community leaders to make informed decisions regarding resource allocation and crime prevention strategies.\n",
    "\n",
    "Why Box Plot? Given my objective of visualizing the distribution of assault rates over multiple years and across various neighborhoods, a box plot is an excellent choice. It effectively highlights the central tendency, variability, and outliers, which are key to understanding the data.\n",
    "\n",
    "To effectively communicate with the audience:\n",
    "\n",
    "Simplified the Message: The key trends and outliers in the assault rates were focused on, avoiding clutter or overly complex visual elements.\n",
    "Clear Labels: Ensured that all axes, legends, and titles are clearly labeled to enhance comprehension.\n",
    "\n",
    "Libraries or frameworks that are well-suited to this visualization were:\n",
    "\n",
    "Seaborn: For creating aesthetically pleasing and informative statistical visualizations, such as the box plot.\n",
    "Matplotlib: A versatile plotting library that works well with Seaborn for customization and detailed control over the visual elements.\n",
    "Pandas: For data manipulation and cleaning before visualization.\n",
    "Plotly, thai optional If interactive visualizations are required, Plotly could be used to make the plots more engaging and interactive.\n",
    "\n",
    "To promote inclusivity and diversity in the visualization design, it was ensured that color palettes that are accessible to people with color vision deficiencies was used, and that all labels and descriptions are clear, non-technical, and culturally sensitive.\n",
    "\n"
   ]
  }
 ],
 "metadata": {
  "kernelspec": {
   "display_name": "dsi_participant",
   "language": "python",
   "name": "python3"
  },
  "language_info": {
   "codemirror_mode": {
    "name": "ipython",
    "version": 3
   },
   "file_extension": ".py",
   "mimetype": "text/x-python",
   "name": "python",
   "nbconvert_exporter": "python",
   "pygments_lexer": "ipython3",
   "version": "3.9.19"
  }
 },
 "nbformat": 4,
 "nbformat_minor": 2
}
